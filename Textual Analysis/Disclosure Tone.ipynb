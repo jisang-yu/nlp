{
 "cells": [
  {
   "cell_type": "markdown",
   "metadata": {},
   "source": [
    "# Disclosure Tone\n",
    "\n",
    "In this module, we will be learning how to compute disclosure tone using the Loughran and McDonald (2011) dictionary.\n",
    "\n",
    "Before we begin, let's import the modules we'll be using in this tutorial."
   ]
  },
  {
   "cell_type": "code",
   "execution_count": null,
   "metadata": {},
   "outputs": [],
   "source": [
    "import pandas as pd\n",
    "import re\n",
    "import requests\n",
    "from nltk.tokenize import word_tokenize\n",
    "from collections import Counter\n",
    "from nltk.corpus import stopwords\n",
    "from MyFunctions import html_to_text"
   ]
  },
  {
   "cell_type": "markdown",
   "metadata": {},
   "source": [
    "#### Calculating Tone\n",
    "\n",
    "To calculate disclosure tone, we first count the number of positive words (**# POS WORDS**) based on a positive word list and the number of negative words (**# NEG WORDS**) based on a negative word list. We can then compute positive and negative tone as:\n",
    "\n",
    "$\n",
    "\\begin{align}\n",
    "POS\\ TONE = \\frac{\\#\\ POS\\ WORDS}{\\#\\ TOTAL\\ WORDS}\n",
    "\\end{align}\n",
    "$\n",
    "\n",
    "$\n",
    "\\begin{align}\n",
    "NEG\\ TONE = \\frac{\\#\\ NEG\\ WORDS}{\\#\\ TOTAL\\ WORDS}\n",
    "\\end{align}\n",
    "$\n",
    "\n",
    "Or, we can calculate a net tone as:\n",
    "\n",
    "$\n",
    "\\begin{align}\n",
    "NET\\ TONE = \\frac{\\#\\ POS\\ WORDS - \\#\\ NEG\\ WORDS}{\\#\\ POS\\ WORDS + \\#\\ NEG\\ WORDS}\n",
    "\\end{align}\n",
    "$\n",
    "\n",
    "#### Negative and Positive Sentiment Dictionaries\n",
    "    \n",
    "Tim Loughran and Bill McDonald, professors at Notre Dame, created dictionaries of positive and negative words and have posted their lists at https://sraf.nd.edu/textual-analysis/resources/.\n",
    "\n",
    "Let's import these word lists into our program."
   ]
  },
  {
   "cell_type": "code",
   "execution_count": null,
   "metadata": {},
   "outputs": [],
   "source": [
    "neg_words = pd.read_excel('LoughranMcDonald_SentimentWordLists_2018.xlsx', sheet_name='Negative', header=None)\n",
    "neg_words = neg_words.rename(columns={0: \"token\"})\n",
    "neg_words['token'] = neg_words['token'].str.lower()\n",
    "neg_words.head()"
   ]
  },
  {
   "cell_type": "code",
   "execution_count": null,
   "metadata": {},
   "outputs": [],
   "source": [
    "pos_words = pd.read_excel('LoughranMcDonald_SentimentWordLists_2018.xlsx', sheet_name='Positive', header=None)\n",
    "pos_words = pos_words.rename(columns={0: \"token\"})\n",
    "pos_words['token'] = pos_words['token'].str.lower()\n",
    "pos_words.head()"
   ]
  },
  {
   "cell_type": "markdown",
   "metadata": {},
   "source": [
    "#### Apple's Earnings Announcement 8-K\n",
    "\n",
    "We're going to practice this approach using Apple's April 30, 2020 earnings announcement 8-K (https://www.sec.gov/Archives/edgar/data/320193/000032019320000050/a8-kexhibit991q2202032.htm). Let's first download the html source code using the **requests.get** function and convert it to text using the **html_to_text** function."
   ]
  },
  {
   "cell_type": "code",
   "execution_count": null,
   "metadata": {},
   "outputs": [],
   "source": [
    "# AUG 2021 UPDATE -- YOU HAVE TO DECLARE A HEADER TO ACCESS THE EDGAR WEBSITE\n",
    "\n",
    "headers = {'User-Agent': 'ORGANIZATION youremail@yourinstitution.edu'}\n",
    "url = 'https://www.sec.gov/Archives/edgar/data/320193/000032019320000050/a8-kexhibit991q2202032.htm'\n",
    "apple_8K = requests.get(url,headers=headers).text\n",
    "text = html_to_text(apple_8K)\n",
    "print(text)"
   ]
  },
  {
   "cell_type": "markdown",
   "metadata": {},
   "source": [
    "#### Pre-Processing and Tokenization\n",
    "\n",
    "Next, let's convert the text to lower case, create word tokens, remove stop words and non-alphabetic tokens, and then create a DataFrame containing the counts of all remaining tokens."
   ]
  },
  {
   "cell_type": "code",
   "execution_count": null,
   "metadata": {},
   "outputs": [],
   "source": [
    "def get_counts(text):\n",
    "      \n",
    "    # Convert text to lower case\n",
    "    \n",
    "    text = text.lower()\n",
    "    \n",
    "    # Create tokens\n",
    "    \n",
    "    tokens = word_tokenize(text)\n",
    "    \n",
    "    # Remove stop words\n",
    "        \n",
    "    tokens = [t for t in tokens if t not in stopwords.words('english')] \n",
    "    \n",
    "    # Remove non-alphabetic (i.e., punctuation, numbers) tokens\n",
    "    \n",
    "    tokens = [t for t in tokens if t.isalpha()] \n",
    "    \n",
    "    # Count tokens\n",
    "    \n",
    "    counts = Counter(tokens)\n",
    "\n",
    "    # Create a DataFrame of our token counts\n",
    "    \n",
    "    df = pd.DataFrame.from_dict(counts, orient='index').reset_index()\n",
    "    df = df.rename(columns={\"index\": \"token\", 0: \"count\"})\n",
    "    df = df.sort_values(by=[\"count\"],ascending=[False])\n",
    "    \n",
    "    return df\n",
    "\n",
    "df = get_counts(text)\n",
    "df.head(10)"
   ]
  },
  {
   "cell_type": "markdown",
   "metadata": {},
   "source": [
    "#### Merge with Negative Words List\n",
    "\n",
    "Let's merge the **neg_words** DataFrame with our **df** DataFrame to identify the negative words in the disclosure."
   ]
  },
  {
   "cell_type": "code",
   "execution_count": null,
   "metadata": {},
   "outputs": [],
   "source": [
    "data = pd.merge(df, neg_words, on='token', how='left', indicator=True)\n",
    "data[data._merge == 'both']"
   ]
  },
  {
   "cell_type": "code",
   "execution_count": null,
   "metadata": {},
   "outputs": [],
   "source": [
    "data['neg'] = 0\n",
    "data.loc[data._merge == 'both', 'neg'] = 1\n",
    "data = data.drop(columns=['_merge'])\n",
    "\n",
    "data[data.neg == 1"
   ]
  },
  {
   "cell_type": "markdown",
   "metadata": {},
   "source": [
    "#### Merge with Positive Words List\n",
    "\n",
    "Let's do the same thing for the positive word list."
   ]
  },
  {
   "cell_type": "code",
   "execution_count": null,
   "metadata": {},
   "outputs": [],
   "source": [
    "data = pd.merge(data, pos_words, on='token', how='left', indicator=True)\n",
    "data['pos'] = 0\n",
    "data.loc[data._merge == 'both', 'pos'] = 1\n",
    "data = data.drop(columns=['_merge'])\n",
    "\n",
    "#data[data.pos == 1]\n",
    "data.head()"
   ]
  },
  {
   "cell_type": "markdown",
   "metadata": {},
   "source": [
    "#### Total Negative Word Count\n",
    "\n",
    "We can now sum up the counts of negative words in the disclosure using the **sum** function."
   ]
  },
  {
   "cell_type": "code",
   "execution_count": null,
   "metadata": {},
   "outputs": [],
   "source": [
    "num_neg = data[data.neg == 1]['count'].sum()\n",
    "print(num_neg)"
   ]
  },
  {
   "cell_type": "markdown",
   "metadata": {},
   "source": [
    "#### Total Positive Word Count\n",
    "\n",
    "We can do the same for positive counts."
   ]
  },
  {
   "cell_type": "code",
   "execution_count": null,
   "metadata": {},
   "outputs": [],
   "source": [
    "num_pos = data[data.pos == 1]['count'].sum()\n",
    "print(num_pos)"
   ]
  },
  {
   "cell_type": "markdown",
   "metadata": {},
   "source": [
    "#### Total Word Count\n",
    "\n",
    "We can also sum the entire **count** column in the **data** DataFrame to obtain the total word count of the disclosure."
   ]
  },
  {
   "cell_type": "code",
   "execution_count": null,
   "metadata": {},
   "outputs": [],
   "source": [
    "total_wc = data['count'].sum()\n",
    "print(total_wc)"
   ]
  },
  {
   "cell_type": "markdown",
   "metadata": {},
   "source": [
    "#### Create Tone Measures\n",
    "\n",
    "Let's now calculate net tone ([**num_pos** - **num_neg**]/[**num_pos** + **num_neg**]), positive tone (**num_pos/total_wc**), and negative tone (**num_neg/total_wc**)."
   ]
  },
  {
   "cell_type": "code",
   "execution_count": null,
   "metadata": {},
   "outputs": [],
   "source": [
    "net_tone = (num_pos - num_neg)/(num_pos + num_neg)\n",
    "pos_tone = num_pos / total_wc\n",
    "neg_tone = num_neg / total_wc\n",
    "\n",
    "print('Net Tone is equal to '+'{:.3f}'.format(net_tone))\n",
    "print('Positive Tone is equal to '+'{:.3f}'.format(pos_tone))\n",
    "print('Negative Tone is equal to '+'{:.3f}'.format(neg_tone))"
   ]
  },
  {
   "cell_type": "markdown",
   "metadata": {},
   "source": [
    "#### Exercise\n",
    "\n",
    "1. Create a function called **get_tone** that takes the EDGAR URL as input and returns the **net_tone**, **pos_tone**, and **neg_tone** of the disclosure.\n",
    "2. Calculate the **net_tone**, **pos_tone**, and **neg_tone** of American Airlines's July 21, 2010 earnings announcement 8-K (https://www.sec.gov/Archives/edgar/data/6201/000000620110000035/ar07218k.htm). Briefly open and skim the 8-K. Does the tone you calculated reflect the sentiment of the disclosure?\n",
    "3. Calculate the **net_tone**, **pos_tone**, and **neg_tone** of American Airlines's April 18, 2013 earnings announcement 8-K (https://www.sec.gov/Archives/edgar/data/6201/000000620113000036/amrearningsreleaseq120138k.htm). Briefly open and skim the 8-K. Does the tone you calculated reflect the sentiment of the disclosure?"
   ]
  },
  {
   "cell_type": "markdown",
   "metadata": {},
   "source": [
    "#### Solution for # 1"
   ]
  },
  {
   "cell_type": "code",
   "execution_count": null,
   "metadata": {},
   "outputs": [],
   "source": []
  },
  {
   "cell_type": "markdown",
   "metadata": {},
   "source": [
    "#### Solution for # 2"
   ]
  },
  {
   "cell_type": "code",
   "execution_count": null,
   "metadata": {},
   "outputs": [],
   "source": []
  },
  {
   "cell_type": "markdown",
   "metadata": {},
   "source": [
    "#### Solution for # 3"
   ]
  },
  {
   "cell_type": "code",
   "execution_count": null,
   "metadata": {},
   "outputs": [],
   "source": []
  }
 ],
 "metadata": {
  "kernelspec": {
   "display_name": "Python 3",
   "language": "python",
   "name": "python3"
  },
  "language_info": {
   "codemirror_mode": {
    "name": "ipython",
    "version": 3
   },
   "file_extension": ".py",
   "mimetype": "text/x-python",
   "name": "python",
   "nbconvert_exporter": "python",
   "pygments_lexer": "ipython3",
   "version": "3.8.8"
  }
 },
 "nbformat": 4,
 "nbformat_minor": 2
}
