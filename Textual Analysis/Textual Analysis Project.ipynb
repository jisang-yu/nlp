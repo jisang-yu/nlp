{
 "cells": [
  {
   "cell_type": "markdown",
   "metadata": {},
   "source": [
    "# Textual Analysis Project\n",
    "\n",
    "In this project, you will calculate disclosure tone for firms' earnings announcement 8-Ks in 2019 Q1. You will then calculate cumulative abnormal returns for the [0,+1] window surrounding the earnings announcement date and test the relation between earnings announcement tone and cumulative abnormal returns.\n",
    "\n",
    "# Instructions\n",
    "\n",
    "#### Import Modules\n",
    "\n",
    "1. Import the following modules:\n",
    "    1. requests\n",
    "    2. pandas as pd\n",
    "    3. word_tokenize from nltk.tokenize\n",
    "    4. Counter from collections\n",
    "    5. statsmodels.api as sm \n",
    "    6. html_to_text from MyFunctions (you will need to download the **MyFunctions.py** file and save it in your current working directory)    "
   ]
  },
  {
   "cell_type": "markdown",
   "metadata": {},
   "source": [
    "#### Solution - Import Modules"
   ]
  },
  {
   "cell_type": "code",
   "execution_count": null,
   "metadata": {},
   "outputs": [],
   "source": []
  },
  {
   "cell_type": "markdown",
   "metadata": {},
   "source": [
    "#### Import Negative and Positive Word Lists\n",
    "\n",
    "1. Import the negative word list into a **pandas** DataFrame called **neg_words** using the **pd.read_excel** function.\n",
    "2. Import the postive word list into a **pandas** DataFrame called **pos_words** using the **pd.read_excel** function.\n",
    "3. Rename the column header in the **neg_words** and **pos_words** DataFrames to 'token'.\n",
    "3. Convert the words in the **neg_words** and **pos_words** DataFrames into lower case.\n",
    "\n",
    "The word lists included in the **LoughranMcDonald_SentimentWordLists** Excel file available at https://sraf.nd.edu/textual-analysis/resources/. "
   ]
  },
  {
   "cell_type": "markdown",
   "metadata": {},
   "source": [
    "#### Solution - Import Negative and Positive Word Lists"
   ]
  },
  {
   "cell_type": "code",
   "execution_count": null,
   "metadata": {},
   "outputs": [],
   "source": []
  },
  {
   "cell_type": "markdown",
   "metadata": {},
   "source": [
    "#### Create a Function to Obtain Tone\n",
    "\n",
    "Create a new function called **get_tone** which takes the URL of an EDGAR filing and returns the **net_tone** of the filing, where **net_tone** is calculated as follows:\n",
    "\n",
    "$\n",
    "\\begin{align}\n",
    "NET\\ TONE = \\frac{\\#\\ POS\\ WORDS - \\#\\ NEG\\ WORDS}{\\#\\ POS\\ WORDS + \\#\\ NEG\\ WORDS}\n",
    "\\end{align}\n",
    "$\n",
    "\n",
    "See the **Disclosure Tone** module for additional instruction on how to create this function."
   ]
  },
  {
   "cell_type": "markdown",
   "metadata": {},
   "source": [
    "#### Solution - Create a Function to Obtain Tone"
   ]
  },
  {
   "cell_type": "code",
   "execution_count": null,
   "metadata": {},
   "outputs": [],
   "source": []
  },
  {
   "cell_type": "markdown",
   "metadata": {},
   "source": [
    "#### Import Earnings Announcement 8-K URLs\n",
    "\n",
    "Import the '8-K URLs.txt' file into a **pandas** DataFrame called **urls** using the **pd.read_csv** function. Note: The columns are delimited with the '|' symbol."
   ]
  },
  {
   "cell_type": "markdown",
   "metadata": {},
   "source": [
    "#### Solution - Import Earnings Announcement 8-K URLs"
   ]
  },
  {
   "cell_type": "code",
   "execution_count": null,
   "metadata": {},
   "outputs": [],
   "source": []
  },
  {
   "cell_type": "markdown",
   "metadata": {},
   "source": [
    "#### Compute Tone\n",
    "\n",
    "1. Create a new file called 'tone.txt' in your current working directory using the **open** function. Write a new header containing the following variables delimited with the '|' symbol: **cik**, **ticker**, **date_filed**, **url**, and **net_tone**.\n",
    "2. Loop through the filings in the **urls** DataFrame using the **iterrows** function and compute the **net_tone** of each filing using the **get_tone** function. For each filing, write a new row to the 'tone.txt' file containing the following variables delimited with a '|' symbol: **cik**, **ticker**, **date_filed**, **url**, and **net_tone**."
   ]
  },
  {
   "cell_type": "markdown",
   "metadata": {},
   "source": [
    "#### Solution - Compute Tone"
   ]
  },
  {
   "cell_type": "code",
   "execution_count": null,
   "metadata": {},
   "outputs": [],
   "source": []
  },
  {
   "cell_type": "markdown",
   "metadata": {},
   "source": [
    "#### Import Tone Data\n",
    "\n",
    "Import the 'tone.txt' file to a new **pandas** DataFrame called **data** using the **pd.read_csv** function. Use the **parse_dates** option to read in the **date_filed** variable as a **datetime** object."
   ]
  },
  {
   "cell_type": "markdown",
   "metadata": {},
   "source": [
    "#### Solution - Import Tone Data"
   ]
  },
  {
   "cell_type": "code",
   "execution_count": null,
   "metadata": {},
   "outputs": [],
   "source": []
  },
  {
   "cell_type": "markdown",
   "metadata": {},
   "source": [
    "#### Calculate Cumulative Abnormal Returns\n",
    "\n",
    "1. Import the 'ret.csv' file to a new **pandas** DataFrame called **ret** using the **pd.read_csv** function. Use the **parse_dates** option to read in the **Date** variable as a datetime object. The 'ret.csv' file was created by scraping Yahoo! Finance (see the Web Scraping Yahoo! Finance Tutorials) and contains the following variables:\n",
    "    1. **ticker**\n",
    "    2. **Date**\n",
    "    3. **ret** - Raw one-day return\n",
    "    4. **ewret** - Equal-weighted index return\n",
    "2. Calculate **abnret** as **ret** - **ewret**.\n",
    "3. Sort the **ret** DataFrame by **ticker** (ascending order) and **Date** (descending order) using the **sort_values** function and the **ascending** option.\n",
    "4. Use the **groupby** and **shift** functions to create a new variable called **abnret_lead1** equal to the return for each ticker on the subsequent trading date (i.e., date *t+1*). \n",
    "5. Create a new variable called **car01** equal to the cumulative abnormal return from day 0 to day +1 using the following formula:\n",
    "\n",
    "    $\n",
    "    \\begin{align}\n",
    "    CAR\\ [0,+1]\\ =\\ [\\ (1 + r_{t})\\ \\times\\ (1 + r_{t+1})\\ ] - 1\n",
    "    \\end{align}\n",
    "    $\n",
    "\n",
    "    where $r$ is the abnornal return on day t (current date) and day t+1 (subsequent trading date)."
   ]
  },
  {
   "cell_type": "markdown",
   "metadata": {},
   "source": [
    "#### Solution - Calculate Cumulative Abnormal Returns"
   ]
  },
  {
   "cell_type": "code",
   "execution_count": null,
   "metadata": {},
   "outputs": [],
   "source": []
  },
  {
   "cell_type": "markdown",
   "metadata": {},
   "source": [
    "#### Merge the Data and Ret DataFrames\n",
    "\n",
    "1. Merge the **data** DataFrame with the **ret** DataFrame and call the resulting DataFrame **data**. Merge on **ticker** and **date_filed** in the **data** DataFrame and on **ticker** and **Date** in the **ret** DataFrame. Use an inner merge.\n",
    "2. Drop all N/A values in the **data** DataFrame using the **dropna** function."
   ]
  },
  {
   "cell_type": "markdown",
   "metadata": {},
   "source": [
    "#### Solution - Merge the Data and Ret DataFrames"
   ]
  },
  {
   "cell_type": "code",
   "execution_count": null,
   "metadata": {},
   "outputs": [],
   "source": []
  },
  {
   "cell_type": "markdown",
   "metadata": {},
   "source": [
    "#### Run a Basic OLS Regression of Cumulative Abnormal Returns on Tone\n",
    "\n",
    "1. Examine the summary statistics of the **net_tone** and **car01** variables using the **describe** function. What is the median value of **net_tone**?\n",
    "2. Use the **OLS** function from the **statsmodels.api** module to run a basic OLS regression with the **car01** as the dependent variable and **net_tone** as the independent variable. Include a constant term in the regression. Print the OLS model summary output using the **summary** function.\n",
    "3. Comment on the relation between tone and the cumulative abnormal return."
   ]
  },
  {
   "cell_type": "markdown",
   "metadata": {},
   "source": [
    "#### Solution - Run a Basic OLS Regression of Cumulative Abnormal Returns on Tone"
   ]
  },
  {
   "cell_type": "code",
   "execution_count": null,
   "metadata": {},
   "outputs": [],
   "source": []
  }
 ],
 "metadata": {
  "kernelspec": {
   "display_name": "Python 3",
   "language": "python",
   "name": "python3"
  },
  "language_info": {
   "codemirror_mode": {
    "name": "ipython",
    "version": 3
   },
   "file_extension": ".py",
   "mimetype": "text/x-python",
   "name": "python",
   "nbconvert_exporter": "python",
   "pygments_lexer": "ipython3",
   "version": "3.7.4"
  }
 },
 "nbformat": 4,
 "nbformat_minor": 2
}
